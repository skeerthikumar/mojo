{
 "cells": [
  {
   "cell_type": "code",
   "execution_count": null,
   "metadata": {},
   "outputs": [],
   "source": [
    "import requests, json, pandas as pd"
   ]
  },
  {
   "cell_type": "code",
   "execution_count": null,
   "metadata": {},
   "outputs": [],
   "source": [
    "def marketsMojoPeers(mm_stockId):\n",
    "    \"\"\" \n",
    "    Returns the Quality, Valuation and Financial Trend with Short Term Technical Rating from Markets Mojo for all its peers\n",
    "    \n",
    "    Input--> Markets Mojo Stock ID  (Example mm_stockId - 592009 - HDFC BANK)\n",
    "    \n",
    "    Output --> Pandas Dataframe with Mojo Metrics\n",
    "    \n",
    "    \n",
    "    \"\"\"\n",
    "    #import pandas as pd, requests, json\n",
    "    url = \"https://frapi.marketsmojo.com/stocks/getPeersDetails\"\n",
    "\n",
    "    headers = {\n",
    "      'User-Agent': 'Mozilla/5.0 (Windows NT 10.0; Win64; x64; rv:74.0) Gecko/20100101 Firefox/74.0',\n",
    "      'Accept': 'application/json, text/plain, */*',\n",
    "      'Accept-Language': 'en-US,en;q=0.5',\n",
    "      'Content-Type': 'text/plain',\n",
    "      'Origin': 'https://www.marketsmojo.com',\n",
    "      'DNT': '1',\n",
    "      'Connection': 'keep-alive',\n",
    "      'Referer': 'https://www.marketsmojo.com/',\n",
    "      'TE': 'Trailers',\n",
    "      'Pragma': 'no-cache',\n",
    "      'Cache-Control': 'no-cache'\n",
    "    }\n",
    "    try:\n",
    "        payload = '{\\\"stock_id\\\":\\\"'+ mm_stockId + '\\\",\\\"popup\\\":1}'\n",
    "        \n",
    "        response = requests.request(\"POST\", url, headers=headers, data = payload)\n",
    "        \n",
    "        stock_list = {}\n",
    "        \n",
    "        for each_stock in response.json()['data']['peer']['list']: \n",
    "                stock = {}\n",
    "                stock['Name'] = each_stock['details']['sname']\n",
    "                stock['Industry'] = each_stock['details']['ind_name']\n",
    "                stock['quality'] = each_stock['dot']['q_txt']\n",
    "                stock['valuation'] = each_stock['dot']['v_txt']\n",
    "                stock['financial'] = each_stock['dot']['f_txt']\n",
    "                stock['technical'] = each_stock['dot']['f_txt']\n",
    "                stock['Mojo'] = each_stock['dot']['scoreText']\n",
    "                stock_list[each_stock['details']['sid']] = stock\n",
    "                \n",
    "        mojo_temp = pd.DataFrame.from_dict(stock_list).transpose()\n",
    "        \n",
    "        return mojo_temp\n",
    "    \n",
    "    except:\n",
    "        print('Unable to find the Stock with Markets Mojo Stock ID %s' %(mm_stockId)  )\n"
   ]
  },
  {
   "cell_type": "code",
   "execution_count": null,
   "metadata": {},
   "outputs": [],
   "source": [
    "mojo = pd.read_csv(\"MojoWithCodes.csv\")\n",
    "mmid = mojo.groupby('Industry').first()['mm_id']\n",
    "mojo_temp = marketsMojoPeers('643071')\n",
    "\n",
    "for industry, stock_id in mmid.iteritems():\n",
    "    print(f'Getting Peer Group for {industry}')\n",
    "    mojo_temp = mojo_temp.append(marketsMojoPeers(str(stock_id)))\n",
    "mojo = pd.read_csv(\"MojoWithCodes.csv\", index_col='mm_id')    \n",
    "mojo_temp = mojo[['BSEID', 'NSEID']].join(mojo_temp)"
   ]
  },
  {
   "cell_type": "code",
   "execution_count": null,
   "metadata": {},
   "outputs": [],
   "source": [
    "mojo_temp.drop_duplicates(inplace=True)\n",
    "mojo_temp[(mojo_temp['Mojo'] == 'Strong Buy')].sort_values(by=['Industry','Name'])"
   ]
  },
  {
   "cell_type": "code",
   "execution_count": null,
   "metadata": {},
   "outputs": [],
   "source": []
  }
 ],
 "metadata": {
  "kernelspec": {
   "display_name": "Python 3",
   "language": "python",
   "name": "python3"
  },
  "language_info": {
   "codemirror_mode": {
    "name": "ipython",
    "version": 3
   },
   "file_extension": ".py",
   "mimetype": "text/x-python",
   "name": "python",
   "nbconvert_exporter": "python",
   "pygments_lexer": "ipython3",
   "version": "3.8.3"
  }
 },
 "nbformat": 4,
 "nbformat_minor": 4
}
